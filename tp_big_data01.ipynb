{
  "nbformat": 4,
  "nbformat_minor": 0,
  "metadata": {
    "colab": {
      "provenance": [],
      "authorship_tag": "ABX9TyM37IMHDaj6uq9OVJt97f6l",
      "include_colab_link": true
    },
    "kernelspec": {
      "name": "python3",
      "display_name": "Python 3"
    },
    "language_info": {
      "name": "python"
    }
  },
  "cells": [
    {
      "cell_type": "markdown",
      "metadata": {
        "id": "view-in-github",
        "colab_type": "text"
      },
      "source": [
        "<a href=\"https://colab.research.google.com/github/Saha3902/Big-data/blob/main/tp_big_data01.ipynb\" target=\"_parent\"><img src=\"https://colab.research.google.com/assets/colab-badge.svg\" alt=\"Open In Colab\"/></a>"
      ]
    },
    {
      "cell_type": "code",
      "execution_count": 1,
      "metadata": {
        "colab": {
          "base_uri": "https://localhost:8080/"
        },
        "id": "6-ienYVlBK8v",
        "outputId": "c2c15c24-cfeb-4389-a2f2-40dbaff422f8"
      },
      "outputs": [
        {
          "output_type": "stream",
          "name": "stdout",
          "text": [
            "جلب الصفحة 1...\n",
            "جلب الصفحة 2...\n",
            "جلب الصفحة 3...\n",
            "جلب الصفحة 4...\n",
            "جلب الصفحة 5...\n",
            "جلب الصفحة 6...\n",
            "جلب الصفحة 7...\n",
            "جلب الصفحة 8...\n",
            "جلب الصفحة 9...\n",
            "جلب الصفحة 10...\n",
            "جلب الصفحة 11...\n",
            "جلب الصفحة 12...\n",
            "جلب الصفحة 13...\n",
            "جلب الصفحة 14...\n",
            "جلب الصفحة 15...\n",
            "جلب الصفحة 16...\n",
            "جلب الصفحة 17...\n",
            "جلب الصفحة 18...\n",
            "جلب الصفحة 19...\n",
            "جلب الصفحة 20...\n",
            "جلب الصفحة 21...\n",
            "جلب الصفحة 22...\n",
            "جلب الصفحة 23...\n",
            "جلب الصفحة 24...\n",
            "جلب الصفحة 25...\n",
            "جلب الصفحة 26...\n",
            "جلب الصفحة 27...\n",
            "جلب الصفحة 28...\n",
            "جلب الصفحة 29...\n",
            "جلب الصفحة 30...\n",
            "جلب الصفحة 31...\n",
            "جلب الصفحة 32...\n",
            "جلب الصفحة 33...\n",
            "جلب الصفحة 34...\n",
            "جلب الصفحة 35...\n",
            "جلب الصفحة 36...\n",
            "جلب الصفحة 37...\n",
            "جلب الصفحة 38...\n",
            "جلب الصفحة 39...\n",
            "جلب الصفحة 40...\n",
            "جلب الصفحة 41...\n",
            "جلب الصفحة 42...\n",
            "جلب الصفحة 43...\n",
            "جلب الصفحة 44...\n",
            "جلب الصفحة 45...\n",
            "جلب الصفحة 46...\n",
            "جلب الصفحة 47...\n",
            "جلب الصفحة 48...\n",
            "جلب الصفحة 49...\n",
            "جلب الصفحة 50...\n",
            "جلب الصفحة 51...\n",
            "الصفحة 51 غير متاحة. إيقاف العملية.\n",
            "تم جمع 1000 كتاباً.\n",
            "تم حفظ البيانات في books_data.csv\n"
          ]
        }
      ],
      "source": [
        "import requests\n",
        "from bs4 import BeautifulSoup\n",
        "import pandas as pd\n",
        "from time import sleep\n",
        "\n",
        "base_link = \"https://books.toscrape.com/catalogue/page-{}.html\"\n",
        "books_data = []\n",
        "\n",
        "for i in range(1, 101):\n",
        "    current_url = base_link.format(i)\n",
        "    print(f\"جلب الصفحة {i}...\")\n",
        "\n",
        "    try:\n",
        "        res = requests.get(current_url, timeout=10)\n",
        "        if res.status_code != 200:\n",
        "            print(f\"الصفحة {i} غير متاحة. إيقاف العملية.\")\n",
        "            break\n",
        "\n",
        "        parser = BeautifulSoup(res.content, \"html.parser\")\n",
        "        items = parser.select(\"article.product_pod\")\n",
        "\n",
        "        if not items:\n",
        "            print(f\"لا توجد كتب في الصفحة {i}. إنهاء العملية.\")\n",
        "            break\n",
        "\n",
        "        for item in items:\n",
        "            name = item.h3.a[\"title\"]\n",
        "            price = item.find(\"p\", class_=\"price_color\").get_text(strip=True)\n",
        "            stock = item.find(\"p\", class_=\"instock availability\").get_text(strip=True)\n",
        "            books_data.append({\n",
        "                \"Title\": name,\n",
        "                \"Price\": price,\n",
        "                \"Availability\": stock\n",
        "            })\n",
        "\n",
        "        sleep(0.5)\n",
        "\n",
        "    except Exception as err:\n",
        "        print(f\"خطأ في الصفحة {i}: {err}\")\n",
        "        continue\n",
        "\n",
        "print(f\"تم جمع {len(books_data)} كتاباً.\")\n",
        "\n",
        "pd.DataFrame(books_data).to_csv(\"books_data.csv\", index=False, encoding=\"utf-8-sig\")\n",
        "print(\"تم حفظ البيانات في books_data.csv\")\n"
      ]
    }
  ]
}